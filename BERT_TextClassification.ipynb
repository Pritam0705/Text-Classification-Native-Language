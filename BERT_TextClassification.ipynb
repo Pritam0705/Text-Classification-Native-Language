{
 "cells": [
  {
   "cell_type": "markdown",
   "metadata": {},
   "source": [
    "# Homework 4: Using pre-trained BERT vectors for text classification"
   ]
  },
  {
   "cell_type": "code",
   "execution_count": 1,
   "metadata": {},
   "outputs": [],
   "source": [
    "# Import all necessary packages\n",
    "import os\n",
    "import json\n",
    "import numpy as np\n",
    "import pandas as pd\n",
    "from sklearn.linear_model import LogisticRegression\n",
    "from sklearn.metrics import accuracy_score\n",
    "from sklearn.metrics import classification_report"
   ]
  },
  {
   "cell_type": "code",
   "execution_count": 2,
   "metadata": {},
   "outputs": [],
   "source": [
    "# Step 1: get BERT repository from github from the given link\n",
    "           # https://github.com/google-research/bert\n",
    "    \n",
    "# Step 2: get pre trained BERT model\n",
    "          # https://storage.googleapis.com/bert_models/2018_10_18/uncased_L-12_H-768_A-12.zip\n",
    "\n",
    "# Step 3: Formatting the input files for BERT to process and produce ooutput\n",
    "\n",
    "ORIGINAL_DATA_DIR = os.path.join(\"D:/Semester-1/NLP/Assignment/hw4-handout/handout/bert_input_data\") #directory that contains three input csv files (copy the input files here)\n",
    "BERT_FEATURE_DIR = os.path.join(\"D:/Semester-1/NLP/Assignment/hw4-handout/handout/bert_output_data\") #directory that contains output jason files from BERT are saved\n",
    "BERT_DATA_DIR = os.path.join(\"D:/Semester-1/NLP/Assignment/hw4-handout/handout/BERT_DATA_DIR\") #directory that contains the original input csv files\n"
   ]
  },
  {
   "cell_type": "code",
   "execution_count": 3,
   "metadata": {},
   "outputs": [],
   "source": [
    "# Step 4: Programmatically reformate the input files so that it can be processed by BERT\n",
    "\n",
    "train = pd.read_csv(os.path.join(BERT_DATA_DIR, \"lang_id_train.csv\"))\n",
    "train_df = pd.read_csv(os.path.join(ORIGINAL_DATA_DIR, \"lang_id_train.csv\"))\n",
    "train_df = train_df.drop(['native_language'], axis = 1)\n",
    "train_df.to_csv(\"D:/Semester-1/NLP/Assignment/hw4-handout/handout/bert_input_data/lang_id_train.csv\",header = 0,index = \"FALSE\") \n",
    "# edit the path provided and add path to the lang_id_train.csv file stored in bert_input_data folder"
   ]
  },
  {
   "cell_type": "code",
   "execution_count": 4,
   "metadata": {},
   "outputs": [
    {
     "data": {
      "text/html": [
       "<div>\n",
       "<style scoped>\n",
       "    .dataframe tbody tr th:only-of-type {\n",
       "        vertical-align: middle;\n",
       "    }\n",
       "\n",
       "    .dataframe tbody tr th {\n",
       "        vertical-align: top;\n",
       "    }\n",
       "\n",
       "    .dataframe thead th {\n",
       "        text-align: right;\n",
       "    }\n",
       "</style>\n",
       "<table border=\"1\" class=\"dataframe\">\n",
       "  <thead>\n",
       "    <tr style=\"text-align: right;\">\n",
       "      <th></th>\n",
       "      <th>native_language</th>\n",
       "      <th>text</th>\n",
       "    </tr>\n",
       "  </thead>\n",
       "  <tbody>\n",
       "    <tr>\n",
       "      <th>0</th>\n",
       "      <td>Japanese</td>\n",
       "      <td>who, whom, whose I have often thinking that, I...</td>\n",
       "    </tr>\n",
       "    <tr>\n",
       "      <th>1</th>\n",
       "      <td>Japanese</td>\n",
       "      <td>books I love reading. It's been one of my hobb...</td>\n",
       "    </tr>\n",
       "    <tr>\n",
       "      <th>2</th>\n",
       "      <td>Japanese</td>\n",
       "      <td>change job I want to change job. The company t...</td>\n",
       "    </tr>\n",
       "    <tr>\n",
       "      <th>3</th>\n",
       "      <td>Japanese</td>\n",
       "      <td>the origin of Japanese I like to learn about a...</td>\n",
       "    </tr>\n",
       "    <tr>\n",
       "      <th>4</th>\n",
       "      <td>Japanese</td>\n",
       "      <td>Marunouchi Today, I am going go to Marunouchi,...</td>\n",
       "    </tr>\n",
       "  </tbody>\n",
       "</table>\n",
       "</div>"
      ],
      "text/plain": [
       "  native_language                                               text\n",
       "0        Japanese  who, whom, whose I have often thinking that, I...\n",
       "1        Japanese  books I love reading. It's been one of my hobb...\n",
       "2        Japanese  change job I want to change job. The company t...\n",
       "3        Japanese  the origin of Japanese I like to learn about a...\n",
       "4        Japanese  Marunouchi Today, I am going go to Marunouchi,..."
      ]
     },
     "execution_count": 4,
     "metadata": {},
     "output_type": "execute_result"
    }
   ],
   "source": [
    "train.head()"
   ]
  },
  {
   "cell_type": "code",
   "execution_count": 5,
   "metadata": {},
   "outputs": [
    {
     "data": {
      "text/html": [
       "<div>\n",
       "<style scoped>\n",
       "    .dataframe tbody tr th:only-of-type {\n",
       "        vertical-align: middle;\n",
       "    }\n",
       "\n",
       "    .dataframe tbody tr th {\n",
       "        vertical-align: top;\n",
       "    }\n",
       "\n",
       "    .dataframe thead th {\n",
       "        text-align: right;\n",
       "    }\n",
       "</style>\n",
       "<table border=\"1\" class=\"dataframe\">\n",
       "  <thead>\n",
       "    <tr style=\"text-align: right;\">\n",
       "      <th></th>\n",
       "      <th>text</th>\n",
       "    </tr>\n",
       "  </thead>\n",
       "  <tbody>\n",
       "    <tr>\n",
       "      <th>0</th>\n",
       "      <td>who, whom, whose I have often thinking that, I...</td>\n",
       "    </tr>\n",
       "    <tr>\n",
       "      <th>1</th>\n",
       "      <td>books I love reading. It's been one of my hobb...</td>\n",
       "    </tr>\n",
       "    <tr>\n",
       "      <th>2</th>\n",
       "      <td>change job I want to change job. The company t...</td>\n",
       "    </tr>\n",
       "    <tr>\n",
       "      <th>3</th>\n",
       "      <td>the origin of Japanese I like to learn about a...</td>\n",
       "    </tr>\n",
       "    <tr>\n",
       "      <th>4</th>\n",
       "      <td>Marunouchi Today, I am going go to Marunouchi,...</td>\n",
       "    </tr>\n",
       "  </tbody>\n",
       "</table>\n",
       "</div>"
      ],
      "text/plain": [
       "                                                text\n",
       "0  who, whom, whose I have often thinking that, I...\n",
       "1  books I love reading. It's been one of my hobb...\n",
       "2  change job I want to change job. The company t...\n",
       "3  the origin of Japanese I like to learn about a...\n",
       "4  Marunouchi Today, I am going go to Marunouchi,..."
      ]
     },
     "execution_count": 5,
     "metadata": {},
     "output_type": "execute_result"
    }
   ],
   "source": [
    "train_df.head()"
   ]
  },
  {
   "cell_type": "code",
   "execution_count": 6,
   "metadata": {},
   "outputs": [],
   "source": [
    "test = pd.read_csv(os.path.join(BERT_DATA_DIR, \"lang_id_test.csv\"))\n",
    "test_df = pd.read_csv(os.path.join(ORIGINAL_DATA_DIR, \"lang_id_test.csv\"))\n",
    "test_df = test_df.drop(['native_language'], axis = 1)\n",
    "test_df.to_csv(\"D:/Semester-1/NLP/Assignment/hw4-handout/handout/bert_input_data/lang_id_test.csv\",header = 0,index = \"FALSE\")\n",
    "# edit the path provided and add path to the lang_id_test.csv file stored in bert_input_data folder"
   ]
  },
  {
   "cell_type": "code",
   "execution_count": 7,
   "metadata": {},
   "outputs": [
    {
     "data": {
      "text/html": [
       "<div>\n",
       "<style scoped>\n",
       "    .dataframe tbody tr th:only-of-type {\n",
       "        vertical-align: middle;\n",
       "    }\n",
       "\n",
       "    .dataframe tbody tr th {\n",
       "        vertical-align: top;\n",
       "    }\n",
       "\n",
       "    .dataframe thead th {\n",
       "        text-align: right;\n",
       "    }\n",
       "</style>\n",
       "<table border=\"1\" class=\"dataframe\">\n",
       "  <thead>\n",
       "    <tr style=\"text-align: right;\">\n",
       "      <th></th>\n",
       "      <th>native_language</th>\n",
       "      <th>text</th>\n",
       "    </tr>\n",
       "  </thead>\n",
       "  <tbody>\n",
       "    <tr>\n",
       "      <th>0</th>\n",
       "      <td>Japanese</td>\n",
       "      <td>got an official job offer Today, I decided to ...</td>\n",
       "    </tr>\n",
       "    <tr>\n",
       "      <th>1</th>\n",
       "      <td>Japanese</td>\n",
       "      <td>I am bum. I am bum.</td>\n",
       "    </tr>\n",
       "    <tr>\n",
       "      <th>2</th>\n",
       "      <td>Japanese</td>\n",
       "      <td>exam... I will have to take the exam tomorrow....</td>\n",
       "    </tr>\n",
       "    <tr>\n",
       "      <th>3</th>\n",
       "      <td>Japanese</td>\n",
       "      <td>Self-introduction and my situation I work in f...</td>\n",
       "    </tr>\n",
       "    <tr>\n",
       "      <th>4</th>\n",
       "      <td>Japanese</td>\n",
       "      <td>Tough Schedule Hi there. So tough schedule las...</td>\n",
       "    </tr>\n",
       "  </tbody>\n",
       "</table>\n",
       "</div>"
      ],
      "text/plain": [
       "  native_language                                               text\n",
       "0        Japanese  got an official job offer Today, I decided to ...\n",
       "1        Japanese                                I am bum. I am bum.\n",
       "2        Japanese  exam... I will have to take the exam tomorrow....\n",
       "3        Japanese  Self-introduction and my situation I work in f...\n",
       "4        Japanese  Tough Schedule Hi there. So tough schedule las..."
      ]
     },
     "execution_count": 7,
     "metadata": {},
     "output_type": "execute_result"
    }
   ],
   "source": [
    "test.head()"
   ]
  },
  {
   "cell_type": "code",
   "execution_count": 8,
   "metadata": {},
   "outputs": [
    {
     "data": {
      "text/html": [
       "<div>\n",
       "<style scoped>\n",
       "    .dataframe tbody tr th:only-of-type {\n",
       "        vertical-align: middle;\n",
       "    }\n",
       "\n",
       "    .dataframe tbody tr th {\n",
       "        vertical-align: top;\n",
       "    }\n",
       "\n",
       "    .dataframe thead th {\n",
       "        text-align: right;\n",
       "    }\n",
       "</style>\n",
       "<table border=\"1\" class=\"dataframe\">\n",
       "  <thead>\n",
       "    <tr style=\"text-align: right;\">\n",
       "      <th></th>\n",
       "      <th>text</th>\n",
       "    </tr>\n",
       "  </thead>\n",
       "  <tbody>\n",
       "    <tr>\n",
       "      <th>0</th>\n",
       "      <td>got an official job offer Today, I decided to ...</td>\n",
       "    </tr>\n",
       "    <tr>\n",
       "      <th>1</th>\n",
       "      <td>I am bum. I am bum.</td>\n",
       "    </tr>\n",
       "    <tr>\n",
       "      <th>2</th>\n",
       "      <td>exam... I will have to take the exam tomorrow....</td>\n",
       "    </tr>\n",
       "    <tr>\n",
       "      <th>3</th>\n",
       "      <td>Self-introduction and my situation I work in f...</td>\n",
       "    </tr>\n",
       "    <tr>\n",
       "      <th>4</th>\n",
       "      <td>Tough Schedule Hi there. So tough schedule las...</td>\n",
       "    </tr>\n",
       "  </tbody>\n",
       "</table>\n",
       "</div>"
      ],
      "text/plain": [
       "                                                text\n",
       "0  got an official job offer Today, I decided to ...\n",
       "1                                I am bum. I am bum.\n",
       "2  exam... I will have to take the exam tomorrow....\n",
       "3  Self-introduction and my situation I work in f...\n",
       "4  Tough Schedule Hi there. So tough schedule las..."
      ]
     },
     "execution_count": 8,
     "metadata": {},
     "output_type": "execute_result"
    }
   ],
   "source": [
    "test_df.head()"
   ]
  },
  {
   "cell_type": "code",
   "execution_count": 9,
   "metadata": {},
   "outputs": [],
   "source": [
    "eval = pd.read_csv(os.path.join(BERT_DATA_DIR, \"lang_id_eval.csv\"))\n",
    "eval_df = pd.read_csv(os.path.join(ORIGINAL_DATA_DIR, \"lang_id_eval.csv\"))\n",
    "eval_df = eval_df.drop(['native_language'], axis = 1)\n",
    "eval_df.to_csv(\"D:/Semester-1/NLP/Assignment/hw4-handout/handout/bert_input_data/lang_id_eval.csv\",header = 0,index = \"FALSE\")\n",
    "#edit the path provided and add path to the lang_id_eval.csv file stored in bert_input_data folder"
   ]
  },
  {
   "cell_type": "code",
   "execution_count": 10,
   "metadata": {},
   "outputs": [
    {
     "data": {
      "text/html": [
       "<div>\n",
       "<style scoped>\n",
       "    .dataframe tbody tr th:only-of-type {\n",
       "        vertical-align: middle;\n",
       "    }\n",
       "\n",
       "    .dataframe tbody tr th {\n",
       "        vertical-align: top;\n",
       "    }\n",
       "\n",
       "    .dataframe thead th {\n",
       "        text-align: right;\n",
       "    }\n",
       "</style>\n",
       "<table border=\"1\" class=\"dataframe\">\n",
       "  <thead>\n",
       "    <tr style=\"text-align: right;\">\n",
       "      <th></th>\n",
       "      <th>native_language</th>\n",
       "      <th>text</th>\n",
       "    </tr>\n",
       "  </thead>\n",
       "  <tbody>\n",
       "    <tr>\n",
       "      <th>0</th>\n",
       "      <td>Japanese</td>\n",
       "      <td>What you can do for your health and I like it ...</td>\n",
       "    </tr>\n",
       "    <tr>\n",
       "      <th>1</th>\n",
       "      <td>Japanese</td>\n",
       "      <td>How to use `peanut  butter ' Hello ! I have a ...</td>\n",
       "    </tr>\n",
       "    <tr>\n",
       "      <th>2</th>\n",
       "      <td>Japanese</td>\n",
       "      <td>earthquake I went to listen to a lecture meeti...</td>\n",
       "    </tr>\n",
       "    <tr>\n",
       "      <th>3</th>\n",
       "      <td>Japanese</td>\n",
       "      <td>The Questions There are many abbrebiations and...</td>\n",
       "    </tr>\n",
       "    <tr>\n",
       "      <th>4</th>\n",
       "      <td>Japanese</td>\n",
       "      <td>Long time no see!!! I\"m very tied! Many part t...</td>\n",
       "    </tr>\n",
       "  </tbody>\n",
       "</table>\n",
       "</div>"
      ],
      "text/plain": [
       "  native_language                                               text\n",
       "0        Japanese  What you can do for your health and I like it ...\n",
       "1        Japanese  How to use `peanut  butter ' Hello ! I have a ...\n",
       "2        Japanese  earthquake I went to listen to a lecture meeti...\n",
       "3        Japanese  The Questions There are many abbrebiations and...\n",
       "4        Japanese  Long time no see!!! I\"m very tied! Many part t..."
      ]
     },
     "execution_count": 10,
     "metadata": {},
     "output_type": "execute_result"
    }
   ],
   "source": [
    "eval.head()"
   ]
  },
  {
   "cell_type": "code",
   "execution_count": 11,
   "metadata": {},
   "outputs": [
    {
     "data": {
      "text/html": [
       "<div>\n",
       "<style scoped>\n",
       "    .dataframe tbody tr th:only-of-type {\n",
       "        vertical-align: middle;\n",
       "    }\n",
       "\n",
       "    .dataframe tbody tr th {\n",
       "        vertical-align: top;\n",
       "    }\n",
       "\n",
       "    .dataframe thead th {\n",
       "        text-align: right;\n",
       "    }\n",
       "</style>\n",
       "<table border=\"1\" class=\"dataframe\">\n",
       "  <thead>\n",
       "    <tr style=\"text-align: right;\">\n",
       "      <th></th>\n",
       "      <th>text</th>\n",
       "    </tr>\n",
       "  </thead>\n",
       "  <tbody>\n",
       "    <tr>\n",
       "      <th>0</th>\n",
       "      <td>What you can do for your health and I like it ...</td>\n",
       "    </tr>\n",
       "    <tr>\n",
       "      <th>1</th>\n",
       "      <td>How to use `peanut  butter ' Hello ! I have a ...</td>\n",
       "    </tr>\n",
       "    <tr>\n",
       "      <th>2</th>\n",
       "      <td>earthquake I went to listen to a lecture meeti...</td>\n",
       "    </tr>\n",
       "    <tr>\n",
       "      <th>3</th>\n",
       "      <td>The Questions There are many abbrebiations and...</td>\n",
       "    </tr>\n",
       "    <tr>\n",
       "      <th>4</th>\n",
       "      <td>Long time no see!!! I\"m very tied! Many part t...</td>\n",
       "    </tr>\n",
       "  </tbody>\n",
       "</table>\n",
       "</div>"
      ],
      "text/plain": [
       "                                                text\n",
       "0  What you can do for your health and I like it ...\n",
       "1  How to use `peanut  butter ' Hello ! I have a ...\n",
       "2  earthquake I went to listen to a lecture meeti...\n",
       "3  The Questions There are many abbrebiations and...\n",
       "4  Long time no see!!! I\"m very tied! Many part t..."
      ]
     },
     "execution_count": 11,
     "metadata": {},
     "output_type": "execute_result"
    }
   ],
   "source": [
    "eval_df.head()"
   ]
  },
  {
   "cell_type": "code",
   "execution_count": 12,
   "metadata": {},
   "outputs": [],
   "source": [
    "# Step 5: Run the shell script to generate the feature vecors\n",
    "\n",
    "# Step 6: Obtain the BERT vectors\n",
    "\n",
    "bert_vectors = []\n",
    "with open(os.path.join(BERT_FEATURE_DIR,\"lang_id_train.jsonlines\"), \"rt\") as infile:\n",
    "    for line in infile:\n",
    "        bert_data = json.loads(line)\n",
    "        for t in bert_data[\"features\"]:\n",
    "            # Only extract the [CLS] vector used for classification\n",
    "            if t[\"token\"] == \"[CLS]\":\n",
    "                # We only use the representation at the final layer of the network\n",
    "                bert_vectors.append(t[\"layers\"][0][\"values\"])\n",
    "                break"
   ]
  },
  {
   "cell_type": "code",
   "execution_count": 13,
   "metadata": {},
   "outputs": [],
   "source": [
    "x_train = np.array(bert_vectors)\n",
    "y_train = train[\"native_language\"].values"
   ]
  },
  {
   "cell_type": "code",
   "execution_count": 14,
   "metadata": {},
   "outputs": [
    {
     "data": {
      "text/plain": [
       "array([[-0.248193,  0.149587, -0.01292 , ..., -0.414284,  0.563247,\n",
       "         0.847716],\n",
       "       [ 0.25184 , -0.027603,  0.085174, ...,  0.01882 ,  0.385593,\n",
       "         0.495373],\n",
       "       [-0.09523 ,  0.269797,  0.45346 , ..., -0.481863,  0.442096,\n",
       "         0.312301],\n",
       "       ...,\n",
       "       [-0.08231 ,  0.222228,  0.343266, ..., -0.504133,  0.924348,\n",
       "         0.113342],\n",
       "       [ 0.045683, -0.046092, -0.438891, ..., -0.26537 ,  0.54027 ,\n",
       "         0.1456  ],\n",
       "       [ 0.159554, -0.167764,  0.520829, ..., -0.145491,  0.358102,\n",
       "         0.074443]])"
      ]
     },
     "execution_count": 14,
     "metadata": {},
     "output_type": "execute_result"
    }
   ],
   "source": [
    "x_train"
   ]
  },
  {
   "cell_type": "code",
   "execution_count": 15,
   "metadata": {},
   "outputs": [
    {
     "data": {
      "text/plain": [
       "array(['Japanese', 'Japanese', 'Japanese', ..., 'Arabic', 'Arabic',\n",
       "       'Arabic'], dtype=object)"
      ]
     },
     "execution_count": 15,
     "metadata": {},
     "output_type": "execute_result"
    }
   ],
   "source": [
    "y_train"
   ]
  },
  {
   "cell_type": "code",
   "execution_count": 16,
   "metadata": {},
   "outputs": [
    {
     "name": "stderr",
     "output_type": "stream",
     "text": [
      "C:\\Users\\prita\\anaconda3\\lib\\site-packages\\sklearn\\linear_model\\_logistic.py:940: ConvergenceWarning: lbfgs failed to converge (status=1):\n",
      "STOP: TOTAL NO. of ITERATIONS REACHED LIMIT.\n",
      "\n",
      "Increase the number of iterations (max_iter) or scale the data as shown in:\n",
      "    https://scikit-learn.org/stable/modules/preprocessing.html\n",
      "Please also refer to the documentation for alternative solver options:\n",
      "    https://scikit-learn.org/stable/modules/linear_model.html#logistic-regression\n",
      "  extra_warning_msg=_LOGISTIC_SOLVER_CONVERGENCE_MSG)\n"
     ]
    }
   ],
   "source": [
    "# Step 7: Train the model\n",
    "\n",
    "lr_model = LogisticRegression(penalty=\"l2\", C=1.0)\n",
    "model_fit = lr_model.fit(x_train, y_train)"
   ]
  },
  {
   "cell_type": "code",
   "execution_count": 17,
   "metadata": {},
   "outputs": [
    {
     "data": {
      "text/plain": [
       "LogisticRegression(C=1.0, class_weight=None, dual=False, fit_intercept=True,\n",
       "                   intercept_scaling=1, l1_ratio=None, max_iter=100,\n",
       "                   multi_class='auto', n_jobs=None, penalty='l2',\n",
       "                   random_state=None, solver='lbfgs', tol=0.0001, verbose=0,\n",
       "                   warm_start=False)"
      ]
     },
     "execution_count": 17,
     "metadata": {},
     "output_type": "execute_result"
    }
   ],
   "source": [
    "model_fit"
   ]
  },
  {
   "cell_type": "code",
   "execution_count": 18,
   "metadata": {},
   "outputs": [],
   "source": [
    "bert_vectors = []\n",
    "with open(os.path.join(BERT_FEATURE_DIR,\"lang_id_test.jsonlines\"), \"rt\") as infile:\n",
    "    for line in infile:\n",
    "        bert_data = json.loads(line)\n",
    "        for t in bert_data[\"features\"]:\n",
    "            # Only extract the [CLS] vector used for classification\n",
    "            if t[\"token\"] == \"[CLS]\":\n",
    "                # We only use the representation at the final layer of the network\n",
    "                bert_vectors.append(t[\"layers\"][0][\"values\"])\n",
    "                break"
   ]
  },
  {
   "cell_type": "code",
   "execution_count": 19,
   "metadata": {},
   "outputs": [],
   "source": [
    "x_test = np.array(bert_vectors)\n",
    "y_test = test[\"native_language\"].values"
   ]
  },
  {
   "cell_type": "code",
   "execution_count": 20,
   "metadata": {},
   "outputs": [
    {
     "data": {
      "text/plain": [
       "array([[ 0.238339, -0.051916, -0.105911, ..., -0.222749,  0.382177,\n",
       "         0.248042],\n",
       "       [-0.089541, -0.360686,  0.131793, ...,  0.016823,  0.536598,\n",
       "         0.708057],\n",
       "       [ 0.184121,  0.047065,  0.315405, ..., -0.125078,  0.27891 ,\n",
       "         0.517292],\n",
       "       ...,\n",
       "       [ 0.498343,  0.423073, -0.153529, ..., -0.356517,  0.367096,\n",
       "         0.367714],\n",
       "       [-0.556586, -0.577899,  0.452868, ..., -0.405716,  0.357567,\n",
       "         0.269214],\n",
       "       [ 0.143796,  0.442142, -0.116725, ..., -0.326696,  0.258988,\n",
       "         0.079421]])"
      ]
     },
     "execution_count": 20,
     "metadata": {},
     "output_type": "execute_result"
    }
   ],
   "source": [
    "x_test"
   ]
  },
  {
   "cell_type": "code",
   "execution_count": 21,
   "metadata": {},
   "outputs": [
    {
     "data": {
      "text/plain": [
       "array(['Japanese', 'Japanese', 'Japanese', ..., 'Arabic', 'Arabic',\n",
       "       'Arabic'], dtype=object)"
      ]
     },
     "execution_count": 21,
     "metadata": {},
     "output_type": "execute_result"
    }
   ],
   "source": [
    "y_test"
   ]
  },
  {
   "cell_type": "code",
   "execution_count": 22,
   "metadata": {},
   "outputs": [],
   "source": [
    "# Step 8: Predict the native language on testing dataset\n",
    "\n",
    "predict_nl = lr_model.predict(x_test)"
   ]
  },
  {
   "cell_type": "code",
   "execution_count": 23,
   "metadata": {},
   "outputs": [
    {
     "data": {
      "text/plain": [
       "array(['Japanese', 'Korean', 'Japanese', ..., 'Mandarin', 'Mandarin',\n",
       "       'Mandarin'], dtype=object)"
      ]
     },
     "execution_count": 23,
     "metadata": {},
     "output_type": "execute_result"
    }
   ],
   "source": [
    "predict_nl"
   ]
  },
  {
   "cell_type": "code",
   "execution_count": 24,
   "metadata": {},
   "outputs": [],
   "source": [
    "accuracy = accuracy_score(y_test, predict_nl)"
   ]
  },
  {
   "cell_type": "code",
   "execution_count": 25,
   "metadata": {},
   "outputs": [
    {
     "data": {
      "text/plain": [
       "0.3745"
      ]
     },
     "execution_count": 25,
     "metadata": {},
     "output_type": "execute_result"
    }
   ],
   "source": [
    "accuracy"
   ]
  },
  {
   "cell_type": "code",
   "execution_count": 26,
   "metadata": {},
   "outputs": [],
   "source": [
    "report = classification_report(y_test, predict_nl)"
   ]
  },
  {
   "cell_type": "code",
   "execution_count": 27,
   "metadata": {},
   "outputs": [
    {
     "name": "stdout",
     "output_type": "stream",
     "text": [
      "              precision    recall  f1-score   support\n",
      "\n",
      "      Arabic       0.31      0.12      0.17       200\n",
      "   Cantonese       0.32      0.17      0.23       200\n",
      "    Japanese       0.49      0.85      0.62       200\n",
      "      Korean       0.29      0.41      0.34       200\n",
      "    Mandarin       0.11      0.14      0.12       200\n",
      "      Polish       0.54      0.32      0.40       200\n",
      "     Russian       0.58      0.58      0.58       200\n",
      "     Spanish       0.51      0.36      0.42       200\n",
      "        Thai       0.72      0.55      0.63       200\n",
      "  Vietnamese       0.14      0.23      0.18       200\n",
      "\n",
      "    accuracy                           0.37      2000\n",
      "   macro avg       0.40      0.37      0.37      2000\n",
      "weighted avg       0.40      0.37      0.37      2000\n",
      "\n"
     ]
    }
   ],
   "source": [
    "print(report)"
   ]
  },
  {
   "cell_type": "code",
   "execution_count": 28,
   "metadata": {},
   "outputs": [
    {
     "name": "stderr",
     "output_type": "stream",
     "text": [
      "C:\\Users\\prita\\anaconda3\\lib\\site-packages\\sklearn\\utils\\deprecation.py:144: FutureWarning: The sklearn.metrics.classification module is  deprecated in version 0.22 and will be removed in version 0.24. The corresponding classes / functions should instead be imported from sklearn.metrics. Anything that cannot be imported from sklearn.metrics is now part of the private API.\n",
      "  warnings.warn(message, FutureWarning)\n",
      "C:\\Users\\prita\\anaconda3\\lib\\site-packages\\sklearn\\base.py:197: FutureWarning: From version 0.24, get_params will raise an AttributeError if a parameter cannot be retrieved as an instance attribute. Previously it would return None.\n",
      "  FutureWarning)\n",
      "C:\\Users\\prita\\anaconda3\\lib\\site-packages\\sklearn\\linear_model\\_logistic.py:940: ConvergenceWarning: lbfgs failed to converge (status=1):\n",
      "STOP: TOTAL NO. of ITERATIONS REACHED LIMIT.\n",
      "\n",
      "Increase the number of iterations (max_iter) or scale the data as shown in:\n",
      "    https://scikit-learn.org/stable/modules/preprocessing.html\n",
      "Please also refer to the documentation for alternative solver options:\n",
      "    https://scikit-learn.org/stable/modules/linear_model.html#logistic-regression\n",
      "  extra_warning_msg=_LOGISTIC_SOLVER_CONVERGENCE_MSG)\n"
     ]
    },
    {
     "data": {
      "image/png": "[encoded data removed]",
      "text/plain": [
       "<Figure size 576x396 with 2 Axes>"
      ]
     },
     "metadata": {},
     "output_type": "display_data"
    },
    {
     "data": {
      "text/plain": [
       "<matplotlib.axes._subplots.AxesSubplot at 0x1ce84cf4b48>"
      ]
     },
     "execution_count": 28,
     "metadata": {},
     "output_type": "execute_result"
    }
   ],
   "source": [
    "from yellowbrick.classifier import ClassificationReport\n",
    "from sklearn.linear_model import LogisticRegression\n",
    "visualize = ClassificationReport(LogisticRegression())\n",
    "visualize.fit(x_train, y_train)\n",
    "y_test = test[\"native_language\"].values\n",
    "visualize.score(x_test, y_test)\n",
    "visualize.show()"
   ]
  },
  {
   "cell_type": "code",
   "execution_count": 30,
   "metadata": {},
   "outputs": [
    {
     "name": "stdout",
     "output_type": "stream",
     "text": [
      "[[ 23   3   3   6 139   4   3   3   1  15]\n",
      " [  4  35   1  18  32   2   4   2  10  92]\n",
      " [  2   4 170  11   5   2   5   0   0   1]\n",
      " [  1   2  78  83   6   1  10   7   9   3]\n",
      " [ 12  38  28  48  28   7  12   6   6  15]\n",
      " [  3   0   9   5  16  64  24   9   1  69]\n",
      " [  3   3  12  32   2  14 117  15   0   2]\n",
      " [ 12   1   7  14  11   8  10  72   2  63]\n",
      " [  6   7   8  30   5   3   2   6 110  23]\n",
      " [  9  15  28  35   4  13  15  21  13  47]]\n"
     ]
    }
   ],
   "source": [
    "from sklearn.metrics import confusion_matrix\n",
    "con_matrix = confusion_matrix(y_test, predict_nl)\n",
    "print(con_matrix)"
   ]
  },
  {
   "cell_type": "code",
   "execution_count": 31,
   "metadata": {},
   "outputs": [
    {
     "name": "stderr",
     "output_type": "stream",
     "text": [
      "C:\\Users\\prita\\anaconda3\\lib\\site-packages\\sklearn\\base.py:197: FutureWarning: From version 0.24, get_params will raise an AttributeError if a parameter cannot be retrieved as an instance attribute. Previously it would return None.\n",
      "  FutureWarning)\n",
      "C:\\Users\\prita\\anaconda3\\lib\\site-packages\\sklearn\\linear_model\\_logistic.py:940: ConvergenceWarning: lbfgs failed to converge (status=1):\n",
      "STOP: TOTAL NO. of ITERATIONS REACHED LIMIT.\n",
      "\n",
      "Increase the number of iterations (max_iter) or scale the data as shown in:\n",
      "    https://scikit-learn.org/stable/modules/preprocessing.html\n",
      "Please also refer to the documentation for alternative solver options:\n",
      "    https://scikit-learn.org/stable/modules/linear_model.html#logistic-regression\n",
      "  extra_warning_msg=_LOGISTIC_SOLVER_CONVERGENCE_MSG)\n"
     ]
    },
    {
     "data": {
      "image/png": "[encoded data removed]",
      "text/plain": [
       "<Figure size 576x396 with 1 Axes>"
      ]
     },
     "metadata": {},
     "output_type": "display_data"
    },
    {
     "data": {
      "text/plain": [
       "<matplotlib.axes._subplots.AxesSubplot at 0x1ce858dcfc8>"
      ]
     },
     "execution_count": 31,
     "metadata": {},
     "output_type": "execute_result"
    }
   ],
   "source": [
    "from yellowbrick.classifier import ConfusionMatrix\n",
    "visualize = ConfusionMatrix(LogisticRegression())\n",
    "visualize.fit(x_train, y_train)\n",
    "visualize.score(x_test, y_test)\n",
    "visualize.show()"
   ]
  },
  {
   "cell_type": "code",
   "execution_count": null,
   "metadata": {},
   "outputs": [],
   "source": []
  }
 ],
 "metadata": {
  "kernelspec": {
   "display_name": "Python 3",
   "language": "python",
   "name": "python3"
  },
  "language_info": {
   "codemirror_mode": {
    "name": "ipython",
    "version": 3
   },
   "file_extension": ".py",
   "mimetype": "text/x-python",
   "name": "python",
   "nbconvert_exporter": "python",
   "pygments_lexer": "ipython3",
   "version": "3.7.6"
  }
 },
 "nbformat": 4,
 "nbformat_minor": 4
}
